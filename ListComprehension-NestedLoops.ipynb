{
  "nbformat": 4,
  "nbformat_minor": 0,
  "metadata": {
    "colab": {
      "provenance": [],
      "authorship_tag": "ABX9TyNiMcDBk1KrSVcoTsUGyY79",
      "include_colab_link": true
    },
    "kernelspec": {
      "name": "python3",
      "display_name": "Python 3"
    },
    "language_info": {
      "name": "python"
    }
  },
  "cells": [
    {
      "cell_type": "markdown",
      "metadata": {
        "id": "view-in-github",
        "colab_type": "text"
      },
      "source": [
        "<a href=\"https://colab.research.google.com/github/prasenjeet/docker-react/blob/master/ListComprehension-NestedLoops.ipynb\" target=\"_parent\"><img src=\"https://colab.research.google.com/assets/colab-badge.svg\" alt=\"Open In Colab\"/></a>"
      ]
    },
    {
      "cell_type": "code",
      "execution_count": 1,
      "metadata": {
        "colab": {
          "base_uri": "https://localhost:8080/"
        },
        "id": "sLdMI2YHE_Xi",
        "outputId": "000be2e2-dd5a-464f-990d-26357738df48"
      },
      "outputs": [
        {
          "output_type": "stream",
          "name": "stdout",
          "text": [
            "[4, 16, 36, 64, 100]\n"
          ]
        }
      ],
      "source": [
        "numbers = [1, 2, 3, 4, 5, 6, 7, 8, 9, 10]\n",
        "even_list = []\n",
        "for i in numbers:\n",
        "    if i % 2==0:\n",
        "        even_list.append(i**2)\n",
        "print(even_list)"
      ]
    },
    {
      "cell_type": "code",
      "source": [
        "even_list = [i**2  for i in numbers if i %2 ==0  ]\n",
        "even_list"
      ],
      "metadata": {
        "colab": {
          "base_uri": "https://localhost:8080/"
        },
        "id": "0vA5yPijFIjM",
        "outputId": "e0d6a2b9-4cc0-4e28-c63c-fdea1b2ac919"
      },
      "execution_count": 2,
      "outputs": [
        {
          "output_type": "execute_result",
          "data": {
            "text/plain": [
              "[4, 16, 36, 64, 100]"
            ]
          },
          "metadata": {},
          "execution_count": 2
        }
      ]
    },
    {
      "cell_type": "code",
      "source": [
        "for x in range(4,6):\n",
        "    for y in range(1,11):\n",
        "        print('{} * {} = {}'.format(x,y,x*y))"
      ],
      "metadata": {
        "colab": {
          "base_uri": "https://localhost:8080/"
        },
        "id": "f7jxnCggFT3E",
        "outputId": "e9e4f726-2bcd-4a68-b416-4c104b62058a"
      },
      "execution_count": 3,
      "outputs": [
        {
          "output_type": "stream",
          "name": "stdout",
          "text": [
            "4 * 1 = 4\n",
            "4 * 2 = 8\n",
            "4 * 3 = 12\n",
            "4 * 4 = 16\n",
            "4 * 5 = 20\n",
            "4 * 6 = 24\n",
            "4 * 7 = 28\n",
            "4 * 8 = 32\n",
            "4 * 9 = 36\n",
            "4 * 10 = 40\n",
            "5 * 1 = 5\n",
            "5 * 2 = 10\n",
            "5 * 3 = 15\n",
            "5 * 4 = 20\n",
            "5 * 5 = 25\n",
            "5 * 6 = 30\n",
            "5 * 7 = 35\n",
            "5 * 8 = 40\n",
            "5 * 9 = 45\n",
            "5 * 10 = 50\n"
          ]
        }
      ]
    },
    {
      "cell_type": "code",
      "source": [
        "for i in range(1, 10, 2):\n",
        "    print(i)"
      ],
      "metadata": {
        "colab": {
          "base_uri": "https://localhost:8080/"
        },
        "id": "11wjjRMrGHi1",
        "outputId": "86bb1f97-da4d-4afc-a0b3-f55daaf8b696"
      },
      "execution_count": 4,
      "outputs": [
        {
          "output_type": "stream",
          "name": "stdout",
          "text": [
            "1\n",
            "3\n",
            "5\n",
            "7\n",
            "9\n"
          ]
        }
      ]
    },
    {
      "cell_type": "code",
      "source": [
        "for i in range(10, 0, -2):\n",
        "    print(i)"
      ],
      "metadata": {
        "colab": {
          "base_uri": "https://localhost:8080/"
        },
        "id": "GDB_9EH0GKtE",
        "outputId": "7f05712a-1348-45e7-ecb7-61529d58905f"
      },
      "execution_count": 5,
      "outputs": [
        {
          "output_type": "stream",
          "name": "stdout",
          "text": [
            "10\n",
            "8\n",
            "6\n",
            "4\n",
            "2\n"
          ]
        }
      ]
    },
    {
      "cell_type": "code",
      "source": [
        "i = 3\n",
        "while True:\n",
        "    print(i)\n",
        "    i = i +1\n",
        "    if i >=7:\n",
        "        break"
      ],
      "metadata": {
        "colab": {
          "base_uri": "https://localhost:8080/"
        },
        "id": "aI0rHebuGm-H",
        "outputId": "5b22fb35-513b-4c16-e0b2-432547da7a64"
      },
      "execution_count": 6,
      "outputs": [
        {
          "output_type": "stream",
          "name": "stdout",
          "text": [
            "3\n",
            "4\n",
            "5\n",
            "6\n"
          ]
        }
      ]
    },
    {
      "cell_type": "code",
      "source": [
        "names = ['sam', 'kate','aj', 'moen','john']\n",
        "i = 0\n",
        "while i < len(names):\n",
        "    name = names[i]\n",
        "    i += 1\n",
        "\n",
        "    if name == 'kate':\n",
        "        continue\n",
        "\n",
        "    print(name)"
      ],
      "metadata": {
        "colab": {
          "base_uri": "https://localhost:8080/"
        },
        "id": "bTNolX-2G1YI",
        "outputId": "595af1b8-caad-467f-8cc5-d02d75fb94c5"
      },
      "execution_count": 7,
      "outputs": [
        {
          "output_type": "stream",
          "name": "stdout",
          "text": [
            "sam\n",
            "aj\n",
            "moen\n",
            "john\n"
          ]
        }
      ]
    },
    {
      "cell_type": "code",
      "source": [
        "\n",
        "for x in range(1, 11):\n",
        "    print('{} {} {}'.format(x, x*x, x*x*x))"
      ],
      "metadata": {
        "colab": {
          "base_uri": "https://localhost:8080/"
        },
        "id": "r2CRVRO8HgCw",
        "outputId": "0b40ba49-cf0c-4f28-a3fb-966a94369f6b"
      },
      "execution_count": 9,
      "outputs": [
        {
          "output_type": "stream",
          "name": "stdout",
          "text": [
            "1 1 1\n",
            "2 4 8\n",
            "3 9 27\n",
            "4 16 64\n",
            "5 25 125\n",
            "6 36 216\n",
            "7 49 343\n",
            "8 64 512\n",
            "9 81 729\n",
            "10 100 1000\n"
          ]
        }
      ]
    },
    {
      "cell_type": "code",
      "source": [
        "min = int(input('lower limit: '))\n",
        "max = int(input('upper limit: '))\n",
        "for i in range(min,max):\n",
        "    if i % 2 == 0:\n",
        "        print(i)"
      ],
      "metadata": {
        "colab": {
          "base_uri": "https://localhost:8080/"
        },
        "id": "iPaQEEpJHsKJ",
        "outputId": "4725b499-8f40-4080-c888-095a86f35832"
      },
      "execution_count": 10,
      "outputs": [
        {
          "output_type": "stream",
          "name": "stdout",
          "text": [
            "lower limit: 10\n",
            "upper limit: 20\n",
            "10\n",
            "12\n",
            "14\n",
            "16\n",
            "18\n"
          ]
        }
      ]
    },
    {
      "cell_type": "code",
      "source": [
        "import string\n",
        "import random\n",
        "password_char = string.ascii_letters + string.punctuation + string.digits\n",
        "length = int(input('Enter the length of the password: '))\n",
        "password = \"\"\n",
        "for i in range(0, length):\n",
        "    password = password + random.choice(password_char)\n",
        "print(password)"
      ],
      "metadata": {
        "colab": {
          "base_uri": "https://localhost:8080/"
        },
        "id": "l5gIyoePH-C7",
        "outputId": "dec2b57c-89e2-4775-d48a-826ee5fa6801"
      },
      "execution_count": 11,
      "outputs": [
        {
          "output_type": "stream",
          "name": "stdout",
          "text": [
            "Enter the length of the password: 15\n",
            "ZJydLVECp:eXW^d\n"
          ]
        }
      ]
    },
    {
      "cell_type": "code",
      "source": [
        "id_matrix = [[1,0,0],\n",
        "             [0,1,0],\n",
        "             [0,0,1]]\n",
        "\n",
        "vector_version = [n for row in id_matrix for n in row]\n",
        "vector_version"
      ],
      "metadata": {
        "colab": {
          "base_uri": "https://localhost:8080/"
        },
        "id": "9IB8sq--Kgfs",
        "outputId": "056a4600-12d1-43e5-e24e-1b8fe87a1bb7"
      },
      "execution_count": 14,
      "outputs": [
        {
          "output_type": "execute_result",
          "data": {
            "text/plain": [
              "[1, 0, 0, 0, 1, 0, 0, 0, 1]"
            ]
          },
          "metadata": {},
          "execution_count": 14
        }
      ]
    },
    {
      "cell_type": "code",
      "source": [
        "def num_object(k):\n",
        "  return {'number':k, 'double':2*k}\n",
        "\n",
        "many_instances = [num_object(k) for k in range(20)]\n",
        "many_instances"
      ],
      "metadata": {
        "colab": {
          "base_uri": "https://localhost:8080/"
        },
        "id": "mRjxA7PqLwTd",
        "outputId": "7aae7ee8-df59-45b4-9012-2dad9c3f0013"
      },
      "execution_count": 16,
      "outputs": [
        {
          "output_type": "execute_result",
          "data": {
            "text/plain": [
              "[{'number': 0, 'double': 0},\n",
              " {'number': 1, 'double': 2},\n",
              " {'number': 2, 'double': 4},\n",
              " {'number': 3, 'double': 6},\n",
              " {'number': 4, 'double': 8},\n",
              " {'number': 5, 'double': 10},\n",
              " {'number': 6, 'double': 12},\n",
              " {'number': 7, 'double': 14},\n",
              " {'number': 8, 'double': 16},\n",
              " {'number': 9, 'double': 18},\n",
              " {'number': 10, 'double': 20},\n",
              " {'number': 11, 'double': 22},\n",
              " {'number': 12, 'double': 24},\n",
              " {'number': 13, 'double': 26},\n",
              " {'number': 14, 'double': 28},\n",
              " {'number': 15, 'double': 30},\n",
              " {'number': 16, 'double': 32},\n",
              " {'number': 17, 'double': 34},\n",
              " {'number': 18, 'double': 36},\n",
              " {'number': 19, 'double': 38}]"
            ]
          },
          "metadata": {},
          "execution_count": 16
        }
      ]
    },
    {
      "cell_type": "code",
      "source": [
        "string_first_100 = [str(k) for k in range(100)]\n",
        "\n",
        "single_string = ', '.join( [str(k) for k in range(100)] )\n",
        "single_string"
      ],
      "metadata": {
        "colab": {
          "base_uri": "https://localhost:8080/",
          "height": 71
        },
        "id": "1rLKhKFkL9rN",
        "outputId": "422c66f7-fcec-4281-93b8-606c6944d56a"
      },
      "execution_count": 18,
      "outputs": [
        {
          "output_type": "execute_result",
          "data": {
            "text/plain": [
              "'0, 1, 2, 3, 4, 5, 6, 7, 8, 9, 10, 11, 12, 13, 14, 15, 16, 17, 18, 19, 20, 21, 22, 23, 24, 25, 26, 27, 28, 29, 30, 31, 32, 33, 34, 35, 36, 37, 38, 39, 40, 41, 42, 43, 44, 45, 46, 47, 48, 49, 50, 51, 52, 53, 54, 55, 56, 57, 58, 59, 60, 61, 62, 63, 64, 65, 66, 67, 68, 69, 70, 71, 72, 73, 74, 75, 76, 77, 78, 79, 80, 81, 82, 83, 84, 85, 86, 87, 88, 89, 90, 91, 92, 93, 94, 95, 96, 97, 98, 99'"
            ],
            "application/vnd.google.colaboratory.intrinsic+json": {
              "type": "string"
            }
          },
          "metadata": {},
          "execution_count": 18
        }
      ]
    },
    {
      "cell_type": "code",
      "source": [
        "import time\n",
        "\n",
        "BIG = 20000000\n",
        "\n",
        "def f(k):\n",
        "    return 2*k\n",
        "\n",
        "def list_a():\n",
        "    list_a = []\n",
        "    for i in range(BIG):\n",
        "        list_a.append(f(i))\n",
        "\n",
        "def list_b():\n",
        "    list_b = [f(i) for i in range(BIG)]\n",
        "\n",
        "def list_a_filtered():\n",
        "    list_a = []\n",
        "    for i in range(BIG):\n",
        "        if i%2==0:\n",
        "            list_a.append(f(i))\n",
        "\n",
        "def list_b_filtered():\n",
        "    list_b = [f(i) for i in range(BIG) if i%2==0]\n",
        "\n",
        "def benchmark(function, function_name):\n",
        "    start = time.time()\n",
        "    function()\n",
        "    end = time.time()\n",
        "    print(\"{0} seconds for {1}\".format((end - start), function_name))\n",
        "\n",
        "benchmark(list_a, \"list a\")\n",
        "benchmark(list_b, \"list b\")\n",
        "benchmark(list_a_filtered, \"filtered list a\")\n",
        "benchmark(list_b_filtered, \"filtered list b\")"
      ],
      "metadata": {
        "colab": {
          "base_uri": "https://localhost:8080/"
        },
        "id": "a4EQ41H2MUPG",
        "outputId": "2e66bfe0-bde4-4bef-f64a-58361bdb168c"
      },
      "execution_count": 19,
      "outputs": [
        {
          "output_type": "stream",
          "name": "stdout",
          "text": [
            "3.797163486480713 seconds for list a\n",
            "3.4551236629486084 seconds for list b\n",
            "4.290605545043945 seconds for filtered list a\n",
            "3.8734891414642334 seconds for filtered list b\n"
          ]
        }
      ]
    },
    {
      "cell_type": "code",
      "source": [
        "dict_of_doubles = {\n",
        "                   str(k) : 2*k for k in range(100)\n",
        "                  }\n",
        "\n",
        "dict_of_multiples_of_4 = {\n",
        "                   str(k) : 2*k for k in range(100) if k%2==0\n",
        "                  }\n",
        "print(dict_of_doubles)\n",
        "print(dict_of_multiples_of_4)"
      ],
      "metadata": {
        "colab": {
          "base_uri": "https://localhost:8080/"
        },
        "id": "e-77RoXEM8XE",
        "outputId": "dc53011e-380d-4a25-d586-a3cd24f4c3e3"
      },
      "execution_count": 22,
      "outputs": [
        {
          "output_type": "stream",
          "name": "stdout",
          "text": [
            "{'0': 0, '1': 2, '2': 4, '3': 6, '4': 8, '5': 10, '6': 12, '7': 14, '8': 16, '9': 18, '10': 20, '11': 22, '12': 24, '13': 26, '14': 28, '15': 30, '16': 32, '17': 34, '18': 36, '19': 38, '20': 40, '21': 42, '22': 44, '23': 46, '24': 48, '25': 50, '26': 52, '27': 54, '28': 56, '29': 58, '30': 60, '31': 62, '32': 64, '33': 66, '34': 68, '35': 70, '36': 72, '37': 74, '38': 76, '39': 78, '40': 80, '41': 82, '42': 84, '43': 86, '44': 88, '45': 90, '46': 92, '47': 94, '48': 96, '49': 98, '50': 100, '51': 102, '52': 104, '53': 106, '54': 108, '55': 110, '56': 112, '57': 114, '58': 116, '59': 118, '60': 120, '61': 122, '62': 124, '63': 126, '64': 128, '65': 130, '66': 132, '67': 134, '68': 136, '69': 138, '70': 140, '71': 142, '72': 144, '73': 146, '74': 148, '75': 150, '76': 152, '77': 154, '78': 156, '79': 158, '80': 160, '81': 162, '82': 164, '83': 166, '84': 168, '85': 170, '86': 172, '87': 174, '88': 176, '89': 178, '90': 180, '91': 182, '92': 184, '93': 186, '94': 188, '95': 190, '96': 192, '97': 194, '98': 196, '99': 198}\n",
            "{'0': 0, '2': 4, '4': 8, '6': 12, '8': 16, '10': 20, '12': 24, '14': 28, '16': 32, '18': 36, '20': 40, '22': 44, '24': 48, '26': 52, '28': 56, '30': 60, '32': 64, '34': 68, '36': 72, '38': 76, '40': 80, '42': 84, '44': 88, '46': 92, '48': 96, '50': 100, '52': 104, '54': 108, '56': 112, '58': 116, '60': 120, '62': 124, '64': 128, '66': 132, '68': 136, '70': 140, '72': 144, '74': 148, '76': 152, '78': 156, '80': 160, '82': 164, '84': 168, '86': 172, '88': 176, '90': 180, '92': 184, '94': 188, '96': 192, '98': 196}\n"
          ]
        }
      ]
    }
  ]
}